{
 "cells": [
  {
   "cell_type": "markdown",
   "metadata": {},
   "source": [
    "Урок 1. Линейное пространство"
   ]
  },
  {
   "cell_type": "markdown",
   "metadata": {},
   "source": [
    "1. Исследовать на линейную зависимость:\n",
    "$f_1(x) = e^x$, $f_2(x) = 1$, $f_3(x) = x + 1$, $f_4(x) = x - e^x$"
   ]
  },
  {
   "cell_type": "markdown",
   "metadata": {},
   "source": [
    "$f_4(x) = f_3(x) - f_2(x) - f_1(x)$"
   ]
  },
  {
   "cell_type": "markdown",
   "metadata": {},
   "source": [
    "Получается что $f_4(x)$ - линейная комбинация остальных трех. Значит видимо они линейно зависимы"
   ]
  },
  {
   "cell_type": "markdown",
   "metadata": {},
   "source": [
    "2. Исследовать на линейную зависимость:\n",
    "$f_1(x) = 2$, $f_2(x) = x$, $f_3(x) = x^2$, $f_4(x) = (x+1)^2$"
   ]
  },
  {
   "cell_type": "markdown",
   "metadata": {},
   "source": [
    "Раскроем скобки для $f_4(x) = x^2 + 2x + 1$ Тогда $f_4(x) = f_3(x) + 2 f_2(x) + \\frac{1}{2}f_1(x)$"
   ]
  },
  {
   "cell_type": "markdown",
   "metadata": {},
   "source": [
    "Значит они линейно зависимы"
   ]
  },
  {
   "cell_type": "markdown",
   "metadata": {},
   "source": [
    "3. Найти координаты вектора\n",
    "$x = (2, 3, 5) \\in \\mathbb{R}^3$ в базисе $b_1 = (0, 0, 10), b_2 = (2, 0, 0), b_3 = (0, 1, 0)$"
   ]
  },
  {
   "cell_type": "markdown",
   "metadata": {},
   "source": [
    "Координаты будут: $x = (1, 3, \\frac{1}{2})$"
   ]
  },
  {
   "cell_type": "markdown",
   "metadata": {},
   "source": [
    "4. Найти координаты вектора \n",
    "$3x^2 - 2x + 2 \\in \\mathbb{R}^3[x]$\n",
    "\n",
    "а) в базисе  $1 ,  x ,  x^2$\n",
    "\n",
    "б) в базисе  $x^2 ,  x-1 ,  1$"
   ]
  },
  {
   "cell_type": "markdown",
   "metadata": {},
   "source": [
    "Не уверен, что правильно мыслю, но - попробую предположить что координаты будут:"
   ]
  },
  {
   "cell_type": "markdown",
   "metadata": {},
   "source": [
    "a) $(3x^2, -2, \\frac{2}{x^2})$"
   ]
  },
  {
   "cell_type": "markdown",
   "metadata": {},
   "source": [
    "b) $(3, -2 - \\frac{2}{x-1}, 2)$"
   ]
  },
  {
   "cell_type": "markdown",
   "metadata": {},
   "source": [
    "5. Установить, является ли линейным подпространством:\n",
    "\n",
    "а) совокупность всех векторов трехмерного пространства, у которых по крайней мере одна из первых двух координат равна нулю;\n",
    "\n",
    "б) все векторы, являющиеся линейными комбинациями данных векторов  {𝑢1,𝑢2,...,𝑢𝑛} ."
   ]
  },
  {
   "cell_type": "markdown",
   "metadata": {},
   "source": [
    "а) С этим у меня не очень понимание... В моем ощущении, если речь идет о ВСЕХ векторах трехмерного пространства - то-есть произвольных векторах вида (x, y, z) - то они же ВСЕ образуют свое линейное пространство? Соответственно при подстановке 0 в первую или вторую (или в обе сразу) компоненты - мы получаем все те-же, только частные случаи ВСЕХ векторов трехмерного пространства. Ничто не машает нам производить над ними операции сложения или умножения и мы не выходим при этом из ВСЕГО пространства трехмерных векторов... То-есть мы можем сказать, что наши вектора - с нулем в первой или второй компоненте (или в обеих сразу), будут подпространством общего линейного пространства всех 3д векторов. Или я все-таки не понимаю? ) Смущает просто постановка задачи.. Почему хотя-бы в одной координате? Ведь они вообще ВСЕ будут подпространством общего линейного пространства трехмерных векторов - что бы у них там в координатах не стояло.."
   ]
  },
  {
   "cell_type": "markdown",
   "metadata": {},
   "source": [
    "б) Все вектора, являющиеся линейными комбинациями заданных векторов - называются линейной оболочкой данной совокупности векторов. Линейная оболочка является линейным подпространством для пространства векторов ${u_1, u_2, u_3, ... , u_n}$"
   ]
  },
  {
   "cell_type": "code",
   "execution_count": null,
   "metadata": {},
   "outputs": [],
   "source": []
  },
  {
   "cell_type": "markdown",
   "metadata": {},
   "source": [
    "Линейное пространство. Основные понятия. Часть 2"
   ]
  },
  {
   "cell_type": "markdown",
   "metadata": {},
   "source": [
    "1. Найти скалярное произведение векторов  𝑥,𝑦∈ℝ :\n",
    "\n",
    "а)  𝑥=(0,−3,6), 𝑦=(−4,7,9); \n",
    "\n",
    "б)  𝑥=(7,−4,0,1), 𝑦=(−3,1,11,2). "
   ]
  },
  {
   "cell_type": "code",
   "execution_count": 1,
   "metadata": {},
   "outputs": [
    {
     "data": {
      "text/plain": [
       "33"
      ]
     },
     "execution_count": 1,
     "metadata": {},
     "output_type": "execute_result"
    }
   ],
   "source": [
    "# a) 0 -21 + 54 = 33\n",
    "import numpy as np\n",
    "x = np.array([0, -3, 6])\n",
    "y = np.array([-4, 7, 9])\n",
    "np.dot(x, y)"
   ]
  },
  {
   "cell_type": "code",
   "execution_count": 2,
   "metadata": {},
   "outputs": [
    {
     "data": {
      "text/plain": [
       "-23"
      ]
     },
     "execution_count": 2,
     "metadata": {},
     "output_type": "execute_result"
    }
   ],
   "source": [
    "# б) -21 - 4 + 0 + 2 = -23\n",
    "x = np.array([7, -4, 0, 1])\n",
    "y = np.array([-3, 1, 11, 2])\n",
    "np.dot(x, y)"
   ]
  },
  {
   "cell_type": "code",
   "execution_count": null,
   "metadata": {},
   "outputs": [],
   "source": []
  },
  {
   "cell_type": "markdown",
   "metadata": {},
   "source": [
    "2. Найти нормы векторов  (4,2,4)  и  (12,3,4)  и угол между ними."
   ]
  },
  {
   "cell_type": "code",
   "execution_count": 5,
   "metadata": {},
   "outputs": [
    {
     "data": {
      "text/plain": [
       "6.0"
      ]
     },
     "execution_count": 5,
     "metadata": {},
     "output_type": "execute_result"
    }
   ],
   "source": [
    "# Нормы евклидовы:\n",
    "x = np.array([4, 2, 4])\n",
    "n_x = np.sqrt(np.sum(x**2))\n",
    "n_x"
   ]
  },
  {
   "cell_type": "code",
   "execution_count": 6,
   "metadata": {},
   "outputs": [
    {
     "data": {
      "text/plain": [
       "13.0"
      ]
     },
     "execution_count": 6,
     "metadata": {},
     "output_type": "execute_result"
    }
   ],
   "source": [
    "y = np.array([12, 3, 4])\n",
    "n_y = np.sqrt(np.sum(y**2))\n",
    "n_y"
   ]
  },
  {
   "cell_type": "code",
   "execution_count": 14,
   "metadata": {},
   "outputs": [
    {
     "data": {
      "text/plain": [
       "6.0"
      ]
     },
     "execution_count": 14,
     "metadata": {},
     "output_type": "execute_result"
    }
   ],
   "source": [
    "# Через numpy\n",
    "np.linalg.norm(x, ord=2)"
   ]
  },
  {
   "cell_type": "code",
   "execution_count": 8,
   "metadata": {},
   "outputs": [
    {
     "data": {
      "text/plain": [
       "13.0"
      ]
     },
     "execution_count": 8,
     "metadata": {},
     "output_type": "execute_result"
    }
   ],
   "source": [
    "np.linalg.norm(y, ord2)"
   ]
  },
  {
   "cell_type": "code",
   "execution_count": 12,
   "metadata": {},
   "outputs": [
    {
     "data": {
      "text/plain": [
       "10"
      ]
     },
     "execution_count": 12,
     "metadata": {},
     "output_type": "execute_result"
    }
   ],
   "source": [
    "# Манхеттенские нормы\n",
    "n_x = np.sum(np.abs(x))\n",
    "n_x"
   ]
  },
  {
   "cell_type": "code",
   "execution_count": 13,
   "metadata": {},
   "outputs": [
    {
     "data": {
      "text/plain": [
       "19"
      ]
     },
     "execution_count": 13,
     "metadata": {},
     "output_type": "execute_result"
    }
   ],
   "source": [
    "n_y = np.sum(np.abs(y))\n",
    "n_y"
   ]
  },
  {
   "cell_type": "code",
   "execution_count": 11,
   "metadata": {},
   "outputs": [
    {
     "data": {
      "text/plain": [
       "10.0"
      ]
     },
     "execution_count": 11,
     "metadata": {},
     "output_type": "execute_result"
    }
   ],
   "source": [
    "# И через numpy\n",
    "np.linalg.norm(x, ord=1)"
   ]
  },
  {
   "cell_type": "code",
   "execution_count": 15,
   "metadata": {},
   "outputs": [
    {
     "data": {
      "text/plain": [
       "19.0"
      ]
     },
     "execution_count": 15,
     "metadata": {},
     "output_type": "execute_result"
    }
   ],
   "source": [
    "np.linalg.norm(y, ord=1)"
   ]
  },
  {
   "cell_type": "code",
   "execution_count": 19,
   "metadata": {},
   "outputs": [
    {
     "data": {
      "text/plain": [
       "70"
      ]
     },
     "execution_count": 19,
     "metadata": {},
     "output_type": "execute_result"
    }
   ],
   "source": [
    "# Угол между векторами:\n",
    "# Попробуем через dot product\n",
    "np.dot(x, y)"
   ]
  },
  {
   "cell_type": "markdown",
   "metadata": {},
   "source": [
    "dot - это как известно $|x| \\cdot |y| \\cdot cos(\\alpha)$\n",
    "\n",
    "То-есть $|x| \\cdot |y| \\cdot cos(\\alpha) = 70$\n",
    "\n",
    "$cos(\\alpha) = \\frac{70}{|x|\\cdot|y|}$\n",
    "\n",
    "$\\alpha = arccos(\\frac{70}{|x|\\cdot|y|})$"
   ]
  },
  {
   "cell_type": "code",
   "execution_count": 20,
   "metadata": {},
   "outputs": [
    {
     "data": {
      "text/plain": [
       "0.456874003532661"
      ]
     },
     "execution_count": 20,
     "metadata": {},
     "output_type": "execute_result"
    }
   ],
   "source": [
    "np.arccos(np.dot(x, y)/(np.linalg.norm(x, ord=2) * np.linalg.norm(y, ord=2)))"
   ]
  },
  {
   "cell_type": "code",
   "execution_count": 23,
   "metadata": {},
   "outputs": [
    {
     "data": {
      "text/plain": [
       "0.4568740035326613"
      ]
     },
     "execution_count": 23,
     "metadata": {},
     "output_type": "execute_result"
    }
   ],
   "source": [
    "# Проверочка более высокоуровнево\n",
    "c = np.dot(x,y)/np.linalg.norm(x)/np.linalg.norm(y) \n",
    "np.arccos(np.clip(c, -1, 1))"
   ]
  },
  {
   "cell_type": "code",
   "execution_count": null,
   "metadata": {},
   "outputs": [],
   "source": []
  },
  {
   "cell_type": "markdown",
   "metadata": {},
   "source": [
    "3. Будет ли линейное пространство евклидовым, если за скалярное произведение принять:\n",
    "\n",
    "а) произведение длин векторов;\n",
    "\n",
    "б) утроенное обычное скалярное произведение векторов?"
   ]
  },
  {
   "cell_type": "markdown",
   "metadata": {},
   "source": [
    "а) - вроде бы да.. 4 аксиомы выполняются с так определенным скалярным произведением.."
   ]
  },
  {
   "cell_type": "markdown",
   "metadata": {},
   "source": [
    "б) - мне кажется, что тоже да. Проверял аксиомы - мне кажется что все выполняются..\n"
   ]
  },
  {
   "cell_type": "code",
   "execution_count": null,
   "metadata": {},
   "outputs": [],
   "source": []
  },
  {
   "cell_type": "markdown",
   "metadata": {},
   "source": [
    "4. Какие из нижеперечисленных векторов образуют ортонормированный базис в линейном пространстве  ℝ3 :\n",
    "\n",
    "а)  $(1,0,0),(0,0,1)$;  \n",
    "\n",
    "б)  $(\\frac{1}{\\sqrt{2}},−\\frac{1}{\\sqrt{2}},0),(\\frac{1}{\\sqrt{2}},\\frac{1}{\\sqrt{2}},0),(0,0,1)$; \n",
    "\n",
    "в)  $(\\frac{1}{2},−\\frac{1}{2},0),(0,\\frac{1}{2},\\frac{1}{2}),(0,0,1)$; \n",
    "\n",
    "г)  (1,0,0),(0,1,0),(0,0,1)? "
   ]
  },
  {
   "cell_type": "markdown",
   "metadata": {},
   "source": [
    "а) - нет, поскольку базис должен быть максимальным набором линейно независимых векторов - то-есть для $\\mathbb{R}^{3}$ - это должно быть три вектора"
   ]
  },
  {
   "cell_type": "markdown",
   "metadata": {},
   "source": [
    "б)  - вроде бы выполняет два условия - скалярные произведения любых двух векторов равны 0, и скалярные произведения векторов самих на себя равны 1"
   ]
  },
  {
   "cell_type": "markdown",
   "metadata": {},
   "source": [
    "в) - нет. Скалярное произведение второго и третьего вектора $\\neq 0$"
   ]
  },
  {
   "cell_type": "markdown",
   "metadata": {},
   "source": [
    "г) - определенно да. И так видно )"
   ]
  },
  {
   "cell_type": "code",
   "execution_count": null,
   "metadata": {},
   "outputs": [],
   "source": []
  }
 ],
 "metadata": {
  "kernelspec": {
   "display_name": "Python 3",
   "language": "python",
   "name": "python3"
  },
  "language_info": {
   "codemirror_mode": {
    "name": "ipython",
    "version": 3
   },
   "file_extension": ".py",
   "mimetype": "text/x-python",
   "name": "python",
   "nbconvert_exporter": "python",
   "pygments_lexer": "ipython3",
   "version": "3.7.3"
  }
 },
 "nbformat": 4,
 "nbformat_minor": 2
}
