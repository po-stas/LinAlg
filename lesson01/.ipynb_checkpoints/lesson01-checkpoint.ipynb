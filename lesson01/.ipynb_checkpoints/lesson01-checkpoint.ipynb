{
 "cells": [
  {
   "cell_type": "markdown",
   "metadata": {},
   "source": [
    "Урок 1. Линейное пространство"
   ]
  },
  {
   "cell_type": "markdown",
   "metadata": {},
   "source": [
    "1. Исследовать на линейную зависимость:\n",
    "$f_1(x) = e^x$, $f_2(x) = 1$, $f_3(x) = x + 1$, $f_4(x) = x - e^x$"
   ]
  },
  {
   "cell_type": "markdown",
   "metadata": {},
   "source": [
    "$f_4(x) = f_3(x) - f_2(x) - f_1(x)$"
   ]
  },
  {
   "cell_type": "markdown",
   "metadata": {},
   "source": [
    "Получается что $f_4(x)$ - линейная комбинация остальных трех. Значит видимо они линейно зависимы"
   ]
  },
  {
   "cell_type": "markdown",
   "metadata": {},
   "source": [
    "2. Исследовать на линейную зависимость:\n",
    "$f_1(x) = 2$, $f_2(x) = x$, $f_3(x) = x^2$, $f_4(x) = (x+1)^2$"
   ]
  },
  {
   "cell_type": "markdown",
   "metadata": {},
   "source": [
    "Раскроем скобки для $f_4(x) = x^2 + 2x + 1$ Тогда $f_4(x) = f_3(x) + 2 f_2(x) + \\frac{1}{2}f_1(x)$"
   ]
  },
  {
   "cell_type": "markdown",
   "metadata": {},
   "source": [
    "Значит они линейно зависимы"
   ]
  },
  {
   "cell_type": "markdown",
   "metadata": {},
   "source": [
    "3. Найти координаты вектора\n",
    "$x = (2, 3, 5) \\in \\mathbb{R}^3$ в базисе $b_1 = (0, 0, 10), b_2 = (2, 0, 0), b_3 = (0, 1, 0)$"
   ]
  },
  {
   "cell_type": "markdown",
   "metadata": {},
   "source": [
    "Координаты будут: $x = (1, 3, \\frac{1}{2})$"
   ]
  },
  {
   "cell_type": "markdown",
   "metadata": {},
   "source": [
    "4. Найти координаты вектора \n",
    "$3x^2 - 2x + 2 \\in \\mathbb{R}^3[x]$\n",
    "а) в базисе  $1 ,  x ,  x^2$\n",
    "б) в базисе  $x^2 ,  x-1 ,  1$"
   ]
  },
  {
   "cell_type": "markdown",
   "metadata": {},
   "source": [
    "Не уверен, что правильно мыслю, но - попробую предположить что координаты будут:"
   ]
  },
  {
   "cell_type": "markdown",
   "metadata": {},
   "source": [
    "a) $(3x^2, -2, \\frac{2}{x^2})$"
   ]
  },
  {
   "cell_type": "markdown",
   "metadata": {},
   "source": [
    "b) $(3, -2 - \\frac{2}{x-1}, 2)$"
   ]
  },
  {
   "cell_type": "code",
   "execution_count": null,
   "metadata": {},
   "outputs": [],
   "source": []
  }
 ],
 "metadata": {
  "kernelspec": {
   "display_name": "Python 3",
   "language": "python",
   "name": "python3"
  },
  "language_info": {
   "codemirror_mode": {
    "name": "ipython",
    "version": 3
   },
   "file_extension": ".py",
   "mimetype": "text/x-python",
   "name": "python",
   "nbconvert_exporter": "python",
   "pygments_lexer": "ipython3",
   "version": "3.7.3"
  }
 },
 "nbformat": 4,
 "nbformat_minor": 2
}
