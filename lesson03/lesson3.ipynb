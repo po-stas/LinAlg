{
 "cells": [
  {
   "cell_type": "markdown",
   "metadata": {},
   "source": [
    "Урок 5. Линейные преобразования"
   ]
  },
  {
   "cell_type": "markdown",
   "metadata": {},
   "source": [
    "1. Найти собственные векторы и собственные значения для линейного оператора, заданного матрицей\n",
    "\n",
    "$A = \n",
    "\\begin{pmatrix}\n",
    "-1 & -6 \\\\\n",
    "2 & 6 \n",
    "\\end{pmatrix}\n",
    "$"
   ]
  },
  {
   "cell_type": "markdown",
   "metadata": {},
   "source": [
    "Как в примере на вебинаре - берем базис $e_1 = (1, 0)$ и $e_2 = (0, 1)$ и преобразуем их нашим оператором."
   ]
  },
  {
   "cell_type": "markdown",
   "metadata": {},
   "source": [
    "Получим:\n",
    "\n",
    "$Ae_1 = (-1 \\cdot e_1 + 2 \\cdot e_2)$\n",
    "\n",
    "$Ae_2 = (-6 \\cdot e_1 + 6 \\cdot e_2)$"
   ]
  },
  {
   "cell_type": "markdown",
   "metadata": {},
   "source": [
    "Ищем собственные значние через характеристическое уравнение."
   ]
  },
  {
   "cell_type": "markdown",
   "metadata": {},
   "source": [
    "$\n",
    "\\begin{vmatrix}\n",
    "-1 - \\lambda & -6 \\\\\n",
    "2 & 6 - \\lambda\n",
    "\\end{vmatrix} = 0\n",
    "$"
   ]
  },
  {
   "cell_type": "markdown",
   "metadata": {},
   "source": [
    "$(-1 - \\lambda)(6 - \\lambda) - (-6 \\cdot 2) = 0 \\Rightarrow \\lambda^2 - 5\\lambda + 6 = 0$"
   ]
  },
  {
   "cell_type": "markdown",
   "metadata": {},
   "source": [
    "$d = 25 - 4\\cdot 1 \\cdot 6 = 1$"
   ]
  },
  {
   "cell_type": "markdown",
   "metadata": {},
   "source": [
    "$\\lambda_1 = \\frac{5 + 1}{2} = 3$"
   ]
  },
  {
   "cell_type": "markdown",
   "metadata": {},
   "source": [
    "$\\lambda_1 = \\frac{5 - 1}{2} = 2$"
   ]
  },
  {
   "cell_type": "markdown",
   "metadata": {},
   "source": [
    "Находим собственные вектора:"
   ]
  },
  {
   "cell_type": "markdown",
   "metadata": {},
   "source": [
    "$\n",
    "\\begin{pmatrix}\n",
    "-1 & -6 \\\\\n",
    "2 & 6 \n",
    "\\end{pmatrix}\n",
    "\\cdot\n",
    "\\begin{pmatrix}\n",
    "x_1 \\\\\n",
    "x_2\n",
    "\\end{pmatrix}\n",
    "=\n",
    "3\\cdot\n",
    "\\begin{pmatrix}\n",
    "x_1 \\\\\n",
    "x_2\n",
    "\\end{pmatrix}\n",
    "$"
   ]
  },
  {
   "cell_type": "markdown",
   "metadata": {},
   "source": [
    "$\n",
    "\\begin{pmatrix}\n",
    "-1 & -6 \\\\\n",
    "2 & 6 \n",
    "\\end{pmatrix}\n",
    "\\cdot\n",
    "\\begin{pmatrix}\n",
    "x_1 \\\\\n",
    "x_2\n",
    "\\end{pmatrix}\n",
    "=\n",
    "2\\cdot\n",
    "\\begin{pmatrix}\n",
    "x_1 \\\\\n",
    "x_2\n",
    "\\end{pmatrix}\n",
    "$"
   ]
  },
  {
   "cell_type": "markdown",
   "metadata": {},
   "source": [
    "С первым корнем:\n",
    "\n",
    "$\\begin{cases}\n",
    "-x_1 + 2 x_2 = 3 x_1 \\\\\n",
    "-6 x_1 + 6 x_2 = 3 x_2\n",
    "\\end{cases}\n",
    "\\Rightarrow \n",
    "\\begin{cases}\n",
    "x_2 = 2 x_1 \\\\\n",
    "-3 x_2 + 3 x_2 = 0\n",
    "\\end{cases}\n",
    "$"
   ]
  },
  {
   "cell_type": "markdown",
   "metadata": {},
   "source": [
    "Если правильно интерпретирую: $x_2$ должен быть в два раза больше $x_1$, а конкретные значения - не важны. Проверим с вектором например \n",
    "\n",
    "$\\begin{pmatrix}\n",
    "1 \\\\\n",
    "2\n",
    "\\end{pmatrix}\n",
    "$:"
   ]
  },
  {
   "cell_type": "markdown",
   "metadata": {},
   "source": [
    "$\n",
    "\\begin{pmatrix}\n",
    "-1 & -6 \\\\\n",
    "2 & 6 \n",
    "\\end{pmatrix}\n",
    "\\cdot\n",
    "\\begin{pmatrix}\n",
    "1 \\\\\n",
    "2\n",
    "\\end{pmatrix}\n",
    "= \n",
    "\\begin{pmatrix}\n",
    "3 \\\\\n",
    "6\n",
    "\\end{pmatrix}\n",
    "= 3\\cdot \n",
    "\\begin{pmatrix}\n",
    "1 \\\\\n",
    "2\n",
    "\\end{pmatrix}\n",
    "$"
   ]
  },
  {
   "cell_type": "markdown",
   "metadata": {},
   "source": [
    "Теперь со вторым корнем:"
   ]
  },
  {
   "cell_type": "markdown",
   "metadata": {},
   "source": [
    "$\\begin{cases}\n",
    "-x_1 + 2 x_2 = 2 x_1 \\\\\n",
    "-6 x_1 + 6 x_2 = 2 x_2\n",
    "\\end{cases}\n",
    "\\Rightarrow \n",
    "\\begin{cases}\n",
    "2 x_2 = 3 x_1 \\\\\n",
    "-6 x_1 + 9 x_1 - 3 x_1 = 0\n",
    "\\end{cases}\n",
    "\\Rightarrow \n",
    "\\begin{cases}\n",
    "x_2 = \\frac{3 x_1}{2} \\\\\n",
    "0 = 0\n",
    "\\end{cases}\n",
    "$"
   ]
  },
  {
   "cell_type": "markdown",
   "metadata": {},
   "source": [
    "Похоже та-же история только с другими коэффициентами $x_2$ должен быть равен $\\frac{3}{2}x_1$"
   ]
  },
  {
   "cell_type": "markdown",
   "metadata": {},
   "source": [
    "Возьмем для проверки вектор удовлетворяющий этому условию: \n",
    "\n",
    "$\\begin{pmatrix}\n",
    "4 \\\\\n",
    "6\n",
    "\\end{pmatrix}\n",
    "$:"
   ]
  },
  {
   "cell_type": "markdown",
   "metadata": {},
   "source": [
    "$\n",
    "\\begin{pmatrix}\n",
    "-1 & -6 \\\\\n",
    "2 & 6 \n",
    "\\end{pmatrix}\n",
    "\\cdot\n",
    "\\begin{pmatrix}\n",
    "4 \\\\\n",
    "6\n",
    "\\end{pmatrix}\n",
    "= \n",
    "\\begin{pmatrix}\n",
    "8 \\\\\n",
    "12\n",
    "\\end{pmatrix}\n",
    "= 2\\cdot \n",
    "\\begin{pmatrix}\n",
    "4 \\\\\n",
    "6\n",
    "\\end{pmatrix}\n",
    "$"
   ]
  },
  {
   "cell_type": "code",
   "execution_count": null,
   "metadata": {},
   "outputs": [],
   "source": []
  },
  {
   "cell_type": "markdown",
   "metadata": {},
   "source": [
    "2. Дан оператор поворота на 180 градусов, задаваемый матрицей\n",
    "\n",
    "$\n",
    "A = \\begin{pmatrix}\n",
    "-1 & 0 \\\\\n",
    "0 & -1 \n",
    "\\end{pmatrix}\n",
    "$\n",
    "\n",
    "Показать, что любой вектор является для него собственным."
   ]
  },
  {
   "cell_type": "markdown",
   "metadata": {},
   "source": [
    " Опятьже попробуем взять базис $e_1 = (1, 0)$ и $e_2 = (0, 1)$ и преобразуем его нашим оператором."
   ]
  },
  {
   "cell_type": "markdown",
   "metadata": {},
   "source": [
    "$Ae_1 = -1 \\cdot e_1 + 0 \\cdot e_2 = -1e_1$ \n",
    "\n",
    "$Ae_2 = 0 \\cdot e_1 - 1 \\cdot e_2 = -1e_2$"
   ]
  },
  {
   "cell_type": "markdown",
   "metadata": {},
   "source": [
    "Составим характеристическое уравнение:\n",
    "\n",
    "$\n",
    "\\begin{vmatrix}\n",
    "-1 - \\lambda & 0 \\\\\n",
    "0 & -1 - \\lambda\n",
    "\\end{vmatrix} = 0\n",
    "$"
   ]
  },
  {
   "cell_type": "markdown",
   "metadata": {},
   "source": [
    "$(-1-\\lambda)^2 = 0 \\Rightarrow \\lambda^2 + 2\\lambda + 1 = 0$"
   ]
  },
  {
   "cell_type": "markdown",
   "metadata": {},
   "source": [
    "$d = 4 - 4 \\cdot 1 \\cdot 1 = 0$"
   ]
  },
  {
   "cell_type": "markdown",
   "metadata": {},
   "source": [
    "$\\lambda = \\frac{-2 + 0}{2} = -1$"
   ]
  },
  {
   "cell_type": "markdown",
   "metadata": {},
   "source": [
    "$\\begin{cases}\n",
    "-x_1 + 0\\cdot x_2 = -x_1 \\\\\n",
    "0\\cdot x_1 - x_2 = -x_2\n",
    "\\end{cases}\n",
    "$"
   ]
  },
  {
   "cell_type": "markdown",
   "metadata": {},
   "source": [
    "Таким образом видим, что значения $x_1$ и $x_2$ не важны, то-есть все вектора будут собственными для данного оператора."
   ]
  },
  {
   "cell_type": "code",
   "execution_count": null,
   "metadata": {},
   "outputs": [],
   "source": []
  },
  {
   "cell_type": "markdown",
   "metadata": {},
   "source": [
    "3. Пусть линейный оператор задан матрицей\n",
    "\n",
    "$\n",
    "A = \\begin{pmatrix}\n",
    "1 & 1 \\\\\n",
    "-1 & 3 \n",
    "\\end{pmatrix}\n",
    "$\n",
    "\n",
    "Установить, является ли вектор  $\n",
    "x = \n",
    "\\begin{pmatrix}\n",
    "1 \\\\\n",
    "1\n",
    "\\end{pmatrix}\n",
    "$  собственным вектором этого линейного оператора."
   ]
  },
  {
   "cell_type": "markdown",
   "metadata": {},
   "source": [
    "Составим характеристическое уравнение:\n",
    "\n",
    "$\n",
    "\\begin{vmatrix}\n",
    "1 - \\lambda & 1 \\\\\n",
    "-1 & 3 - \\lambda\n",
    "\\end{vmatrix} = 0\n",
    "$"
   ]
  },
  {
   "cell_type": "markdown",
   "metadata": {},
   "source": [
    "$(1-\\lambda)(3-\\lambda) + 1 = 0 \\Rightarrow \\lambda^2 - 4\\lambda + 4 = 0$"
   ]
  },
  {
   "cell_type": "markdown",
   "metadata": {},
   "source": [
    "$d = 16 - 4 \\cdot 1 \\cdot 4 = 0$"
   ]
  },
  {
   "cell_type": "markdown",
   "metadata": {},
   "source": [
    "$\\lambda = \\frac{4 + 0}{2} = 2$"
   ]
  },
  {
   "cell_type": "markdown",
   "metadata": {},
   "source": [
    "Подставляем:"
   ]
  },
  {
   "cell_type": "markdown",
   "metadata": {},
   "source": [
    "$\n",
    "\\begin{pmatrix}\n",
    "1 & 1 \\\\\n",
    "-1 & 3 \n",
    "\\end{pmatrix}\n",
    "\\cdot\n",
    "\\begin{pmatrix}\n",
    "1 \\\\\n",
    "1\n",
    "\\end{pmatrix}\n",
    "= \n",
    "\\begin{pmatrix}\n",
    "0 \\\\\n",
    "3\n",
    "\\end{pmatrix}\n",
    "\\neq 2\\cdot \n",
    "\\begin{pmatrix}\n",
    "1 \\\\\n",
    "1\n",
    "\\end{pmatrix}\n",
    "$"
   ]
  },
  {
   "cell_type": "markdown",
   "metadata": {},
   "source": [
    "Если нигде не ошибся, и правильно понимаю суть - то видимо - нет, не является собственным."
   ]
  },
  {
   "cell_type": "code",
   "execution_count": null,
   "metadata": {},
   "outputs": [],
   "source": []
  }
 ],
 "metadata": {
  "kernelspec": {
   "display_name": "Python 3",
   "language": "python",
   "name": "python3"
  },
  "language_info": {
   "codemirror_mode": {
    "name": "ipython",
    "version": 3
   },
   "file_extension": ".py",
   "mimetype": "text/x-python",
   "name": "python",
   "nbconvert_exporter": "python",
   "pygments_lexer": "ipython3",
   "version": "3.7.3"
  }
 },
 "nbformat": 4,
 "nbformat_minor": 2
}
