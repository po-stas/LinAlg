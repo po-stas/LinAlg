{
 "cells": [
  {
   "cell_type": "markdown",
   "metadata": {},
   "source": [
    "Урок 3\n",
    "Матрицы и матричные операции. Часть 1"
   ]
  },
  {
   "cell_type": "markdown",
   "metadata": {},
   "source": [
    "1. Установить, какие произведения матриц  𝐴𝐵  и  𝐵𝐴  определены, и найти размерности полученных матриц:\n",
    "\n",
    "а)  𝐴  — матрица  4×2 ,  𝐵  — матрица  4×2 ;\n",
    "\n",
    "б)  𝐴  — матрица  2×5 ,  𝐵  — матрица  5×3 ;\n",
    "\n",
    "в)  𝐴  — матрица  8×3 ,  𝐵  — матрица  3×8 ;\n",
    "\n",
    "г)  𝐴  — квадратная матрица  4×4 ,  𝐵  — квадратная матрица  4×4 ."
   ]
  },
  {
   "cell_type": "markdown",
   "metadata": {},
   "source": [
    "a) произведение не определено тк размерности матриц не подходящие (количество столбцов первой должно быть равно количеству строк второй)"
   ]
  },
  {
   "cell_type": "markdown",
   "metadata": {},
   "source": [
    "б) Определено, размерность итоговой будет 2х3"
   ]
  },
  {
   "cell_type": "markdown",
   "metadata": {},
   "source": [
    "в) Определено, размерность итоговой будет 8х8"
   ]
  },
  {
   "cell_type": "markdown",
   "metadata": {},
   "source": [
    "г) Квадратные, одинаковой размерности точно перемножаются итоговая имеет такую-же размерность."
   ]
  },
  {
   "cell_type": "code",
   "execution_count": null,
   "metadata": {},
   "outputs": [],
   "source": []
  },
  {
   "cell_type": "markdown",
   "metadata": {},
   "source": [
    "2. Найти сумму и произведение матриц \n",
    "\n",
    "$A = \n",
    "\\begin{pmatrix}\n",
    "1 & -2 \\\\\n",
    "3 & 0 \n",
    "\\end{pmatrix}\n",
    "$\n",
    "\n",
    "$B = \n",
    "\\begin{pmatrix}\n",
    "4 & -1 \\\\\n",
    "0 & 5 \n",
    "\\end{pmatrix}\n",
    "$"
   ]
  },
  {
   "cell_type": "code",
   "execution_count": 7,
   "metadata": {},
   "outputs": [
    {
     "data": {
      "text/plain": [
       "array([[ 5, -3],\n",
       "       [ 3,  5]])"
      ]
     },
     "execution_count": 7,
     "metadata": {},
     "output_type": "execute_result"
    }
   ],
   "source": [
    "# Сумма\n",
    "import numpy as np\n",
    "a = np.array([[1, -2], [3, 0]])\n",
    "b = np.array([[4, -1], [0, 5]])\n",
    "s = np.array([[a[0][0] + b[0][0], a[0][1] + b[0][1]], [a[1][0] + b[1][0], a[1][1] + b[1][1]]])\n",
    "s"
   ]
  },
  {
   "cell_type": "code",
   "execution_count": 9,
   "metadata": {},
   "outputs": [
    {
     "data": {
      "text/plain": [
       "array([[ 5, -3],\n",
       "       [ 3,  5]])"
      ]
     },
     "execution_count": 9,
     "metadata": {},
     "output_type": "execute_result"
    }
   ],
   "source": [
    "# Ну или используя собственно numpy\n",
    "a+b"
   ]
  },
  {
   "cell_type": "code",
   "execution_count": 16,
   "metadata": {},
   "outputs": [
    {
     "data": {
      "text/plain": [
       "array([[  4, -11],\n",
       "       [ 12,  -3]])"
      ]
     },
     "execution_count": 16,
     "metadata": {},
     "output_type": "execute_result"
    }
   ],
   "source": [
    "# Произведение:\n",
    "np.array([[a[0][0] * b[0][0] + a[0][1] * b[1][0], a[0][0] * b[0][1] + a[0][1] * b[1][1]],\n",
    "           [a[1][0] * b[0][0] + a[1][1] * b[1][0], a[1][0] * b[0][1] + a[1][1] * b[1][1]]])"
   ]
  },
  {
   "cell_type": "code",
   "execution_count": 17,
   "metadata": {},
   "outputs": [
    {
     "data": {
      "text/plain": [
       "array([[  4, -11],\n",
       "       [ 12,  -3]])"
      ]
     },
     "execution_count": 17,
     "metadata": {},
     "output_type": "execute_result"
    }
   ],
   "source": [
    "# Через numpy.dot\n",
    "np.dot(a, b)"
   ]
  },
  {
   "cell_type": "code",
   "execution_count": null,
   "metadata": {},
   "outputs": [],
   "source": []
  },
  {
   "cell_type": "markdown",
   "metadata": {},
   "source": [
    "3. Из закономерностей сложения и умножения матриц на число можно сделать вывод, что матрицы одного размера образуют линейное пространство. \n",
    "\n",
    "Вычислить линейную комбинацию $3A - 2B + 4C$  для матриц  \n",
    "\n",
    "$A = \n",
    "\\begin{pmatrix}\n",
    "1 & 7 \\\\\n",
    "3 & -6 \n",
    "\\end{pmatrix}\n",
    "B = \n",
    "\\begin{pmatrix}\n",
    "0 & 5 \\\\\n",
    "2 & -1 \n",
    "\\end{pmatrix}\n",
    "C = \n",
    "\\begin{pmatrix}\n",
    "2 & -4 \\\\\n",
    "1 & 1 \n",
    "\\end{pmatrix}\n",
    "$"
   ]
  },
  {
   "cell_type": "code",
   "execution_count": 20,
   "metadata": {},
   "outputs": [
    {
     "data": {
      "text/plain": [
       "array([[ 11,  -5],\n",
       "       [  9, -12]])"
      ]
     },
     "execution_count": 20,
     "metadata": {},
     "output_type": "execute_result"
    }
   ],
   "source": [
    "a = np.array([[1, 7], [3, -6]])\n",
    "b = np.array([[0, 5], [2, -1]])\n",
    "c = np.array([[2, -4], [1, 1]])\n",
    "\n",
    "# Честно говоря лень все это писать много раз - сделаю функции\n",
    "def m2_sum(x, y):\n",
    "    return np.array([[x[0][0] + y[0][0], x[0][1] + y[0][1]], [x[1][0] + y[1][0], x[1][1] + y[1][1]]])\n",
    "\n",
    "def m2_scalar_mult(x, s):\n",
    "    return np.array([[x[0][0] * s, x[0][1] * s], [x[1][0] * s, x[1][1] * s]])\n",
    "\n",
    "# Тогда заданная линейная комбинация будет:\n",
    "m2_sum(m2_sum(m2_scalar_mult(a, 3), -m2_scalar_mult(b, 2)), m2_scalar_mult(c, 4))"
   ]
  },
  {
   "cell_type": "code",
   "execution_count": 22,
   "metadata": {},
   "outputs": [
    {
     "data": {
      "text/plain": [
       "array([[ 11,  -5],\n",
       "       [  9, -12]])"
      ]
     },
     "execution_count": 22,
     "metadata": {},
     "output_type": "execute_result"
    }
   ],
   "source": [
    "# Проверим в numpy:\n",
    "3 * a - 2 * b + 4 * c"
   ]
  },
  {
   "cell_type": "code",
   "execution_count": null,
   "metadata": {},
   "outputs": [],
   "source": []
  },
  {
   "cell_type": "markdown",
   "metadata": {},
   "source": [
    "4. Дана матрица  \n",
    "\n",
    "$A = \n",
    "\\begin{pmatrix}\n",
    "4 & 1 \\\\\n",
    "5 & -2 \\\\\n",
    "2 & 3\n",
    "\\end{pmatrix}\n",
    "$\n",
    "\n",
    "Вычислить  $A\\cdot A^T$ и $A^T \\cdot A$"
   ]
  },
  {
   "cell_type": "code",
   "execution_count": 25,
   "metadata": {},
   "outputs": [],
   "source": [
    "a = np.array([[4, 1], [5, -2], [2, 3]])\n",
    "a_t = np.array([[4, 5, 2], [1, -2, 3]])"
   ]
  },
  {
   "cell_type": "code",
   "execution_count": 58,
   "metadata": {},
   "outputs": [],
   "source": [
    "# Два перемножения - лучше сразу функцию сделать\n",
    "\n",
    "def m_mult(x, y):\n",
    "    product = np.zeros(shape=(x.shape[0],y.shape[1]))\n",
    "    for i in range(x.shape[0]):\n",
    "        for j in range(y.shape[1]):\n",
    "            for k in range(x.shape[1]):\n",
    "                product[i][j] += x[i][k] * y[k][j]\n",
    "    return product"
   ]
  },
  {
   "cell_type": "code",
   "execution_count": 59,
   "metadata": {},
   "outputs": [
    {
     "data": {
      "text/plain": [
       "array([[17., 18., 11.],\n",
       "       [18., 29.,  4.],\n",
       "       [11.,  4., 13.]])"
      ]
     },
     "execution_count": 59,
     "metadata": {},
     "output_type": "execute_result"
    }
   ],
   "source": [
    "m_mult(a, a_t)"
   ]
  },
  {
   "cell_type": "code",
   "execution_count": 60,
   "metadata": {},
   "outputs": [
    {
     "data": {
      "text/plain": [
       "array([[45.,  0.],\n",
       "       [ 0., 14.]])"
      ]
     },
     "execution_count": 60,
     "metadata": {},
     "output_type": "execute_result"
    }
   ],
   "source": [
    "# Теперь в обратном порядке\n",
    "m_mult(a_t, a)"
   ]
  },
  {
   "cell_type": "code",
   "execution_count": 61,
   "metadata": {},
   "outputs": [
    {
     "data": {
      "text/plain": [
       "array([[17, 18, 11],\n",
       "       [18, 29,  4],\n",
       "       [11,  4, 13]])"
      ]
     },
     "execution_count": 61,
     "metadata": {},
     "output_type": "execute_result"
    }
   ],
   "source": [
    "# Проверим\n",
    "np.dot(a, a_t)"
   ]
  },
  {
   "cell_type": "code",
   "execution_count": 62,
   "metadata": {},
   "outputs": [
    {
     "data": {
      "text/plain": [
       "array([[45,  0],\n",
       "       [ 0, 14]])"
      ]
     },
     "execution_count": 62,
     "metadata": {},
     "output_type": "execute_result"
    }
   ],
   "source": [
    "np"
   ]
  },
  {
   "cell_type": "code",
   "execution_count": null,
   "metadata": {},
   "outputs": [],
   "source": []
  },
  {
   "cell_type": "markdown",
   "metadata": {},
   "source": [
    "5*. Написать на Python функцию для перемножения двух произвольных матриц, не используя NumPy."
   ]
  },
  {
   "cell_type": "markdown",
   "metadata": {},
   "source": [
    "А.. эмм.. уже сделал в задании выше ) не то, что-бы совсем не используя numpy, но думаю такой вариант использования допустим в этом задании.. "
   ]
  },
  {
   "cell_type": "code",
   "execution_count": null,
   "metadata": {},
   "outputs": [],
   "source": []
  },
  {
   "cell_type": "markdown",
   "metadata": {},
   "source": [
    "Матрицы и матричные операции. Часть 2"
   ]
  },
  {
   "cell_type": "markdown",
   "metadata": {},
   "source": [
    "1. Вычислить определитель:\n",
    "\n",
    "a) $\n",
    "\\begin{vmatrix}\n",
    "sin(x) & -cos(x) \\\\\n",
    "cos(x) & sin(x) \n",
    "\\end{vmatrix}\n",
    "$\n",
    "\n",
    "б) $\n",
    "\\begin{vmatrix}\n",
    "4 & 2 &3 \\\\\n",
    "0 & 5 & 1 \\\\\n",
    "0 & 0 & 9\n",
    "\\end{vmatrix}\n",
    "$\n",
    "\n",
    "в) $\n",
    "\\begin{vmatrix}\n",
    "1 & 2 &3 \\\\\n",
    "4 & 5 & 6 \\\\\n",
    "7 & 8 & 9\n",
    "\\end{vmatrix}\n",
    "$\n",
    "\n",
    "\n",
    "\n"
   ]
  },
  {
   "cell_type": "markdown",
   "metadata": {},
   "source": [
    "a) определитель будет равен $sin(x)\\cdot sin(x) + cos(x) \\cdot cos(x) = sin^2(x) + cos^2(x)$"
   ]
  },
  {
   "cell_type": "markdown",
   "metadata": {},
   "source": [
    "б) возьмем по третьей строке (там больше всего нулей)\n",
    "\n",
    "$ det = 9 \\cdot\n",
    "\\begin{vmatrix}\n",
    "4 & 2 \\\\\n",
    "0 & 5\n",
    "\\end{vmatrix}\n",
    "=\n",
    "9 \\cdot (4 \\cdot 5 - 2 \\cdot 0) = 9 \\cdot (4 \\cdot 5) = 9 \\cdot 20 = 180$"
   ]
  },
  {
   "cell_type": "markdown",
   "metadata": {},
   "source": [
    "в) тут такой удачи, как в предыдущем - нет, поэтому берем по первой строке:\n",
    "\n",
    "$ det = 1 \\cdot\n",
    "\\begin{vmatrix}\n",
    "5 & 6 \\\\\n",
    "8 & 9\n",
    "\\end{vmatrix}\n",
    "- 2 \\cdot \n",
    "\\begin{vmatrix}\n",
    "4 & 6 \\\\\n",
    "7 & 9\n",
    "\\end{vmatrix}\n",
    "+ 3 \\cdot\n",
    "\\begin{vmatrix}\n",
    "4 & 5 \\\\\n",
    "7 & 8\n",
    "\\end{vmatrix}\n",
    "= \n",
    "(5 \\cdot 9 - 6 \\cdot 8) - 2 \\cdot (4 \\cdot 9 - 6 \\cdot 7) + 3 \\cdot (4 \\cdot 8 - 5 \\cdot 7) = $"
   ]
  },
  {
   "cell_type": "code",
   "execution_count": 91,
   "metadata": {},
   "outputs": [
    {
     "data": {
      "text/plain": [
       "0"
      ]
     },
     "execution_count": 91,
     "metadata": {},
     "output_type": "execute_result"
    }
   ],
   "source": [
    "(5 * 9 - 6 * 8) - 2 * (4 * 9 - 6 * 7) + 3 * (4 * 8 - 5 * 7)"
   ]
  },
  {
   "cell_type": "code",
   "execution_count": 106,
   "metadata": {},
   "outputs": [
    {
     "data": {
      "text/plain": [
       "-9.51619735392994e-16"
      ]
     },
     "execution_count": 106,
     "metadata": {},
     "output_type": "execute_result"
    }
   ],
   "source": [
    "# проверим\n",
    "from numpy.linalg import det\n",
    "mm = np.array([[1, 2, 3], [4, 5, 6], [7, 8, 9]])\n",
    "det(mm)"
   ]
  },
  {
   "cell_type": "markdown",
   "metadata": {},
   "source": [
    "Видимо это следует трактовать как 0"
   ]
  },
  {
   "cell_type": "code",
   "execution_count": 96,
   "metadata": {},
   "outputs": [
    {
     "data": {
      "text/plain": [
       "0.0"
      ]
     },
     "execution_count": 96,
     "metadata": {},
     "output_type": "execute_result"
    }
   ],
   "source": [
    "# хотя вот если транспонировать матрицу - то будет прямо четкий 0\n",
    "# удивительно, если учесть, что он по определению совпадает\n",
    "det(np.transpose(mm))"
   ]
  },
  {
   "cell_type": "code",
   "execution_count": null,
   "metadata": {},
   "outputs": [],
   "source": []
  },
  {
   "cell_type": "markdown",
   "metadata": {},
   "source": [
    "2. Определитель матрицы  𝐴  равен  4 . Найти:\n",
    "\n",
    "а)  $det(A^2)$\n",
    "\n",
    "б)  $det(A^T)$\n",
    "\n",
    "в)  $det(2A)$"
   ]
  },
  {
   "cell_type": "markdown",
   "metadata": {},
   "source": [
    "а) Не нашел соответствующего свойства - но интуитивно будет равен $4^2 = 16$\n",
    "\n",
    "Проверил на какой-то матрице - вроде-бы так, единственное, определитель может получиться и отрицательный... и тогда видимо начинаются комплексные числа и вот это вот всё.."
   ]
  },
  {
   "cell_type": "markdown",
   "metadata": {},
   "source": [
    "б) будет равен определителю исходной - то-есть 4"
   ]
  },
  {
   "cell_type": "markdown",
   "metadata": {},
   "source": [
    "в) согласно свойству определителя - будет равен 4 * 2 то-есть 8"
   ]
  },
  {
   "cell_type": "code",
   "execution_count": null,
   "metadata": {},
   "outputs": [],
   "source": []
  },
  {
   "cell_type": "code",
   "execution_count": null,
   "metadata": {},
   "outputs": [],
   "source": []
  }
 ],
 "metadata": {
  "kernelspec": {
   "display_name": "Python 3",
   "language": "python",
   "name": "python3"
  },
  "language_info": {
   "codemirror_mode": {
    "name": "ipython",
    "version": 3
   },
   "file_extension": ".py",
   "mimetype": "text/x-python",
   "name": "python",
   "nbconvert_exporter": "python",
   "pygments_lexer": "ipython3",
   "version": "3.7.3"
  }
 },
 "nbformat": 4,
 "nbformat_minor": 2
}
