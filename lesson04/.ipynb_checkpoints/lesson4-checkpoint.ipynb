{
 "cells": [
  {
   "cell_type": "markdown",
   "metadata": {},
   "source": [
    "Урок 6.\n",
    "\n",
    "Системы линейных уравнений. Часть 1"
   ]
  },
  {
   "cell_type": "markdown",
   "metadata": {},
   "source": [
    "1. Решить систему уравнений методом Гаусса:\n",
    "\n",
    "$\\begin{cases}\n",
    "x_1 + x_2 - x_3 - 2x_4 = 0 \\\\\n",
    "2x_1 + x_2 - x_3 + x_4 = -2 \\\\\n",
    "x_1 + x_2 - 3x_3 + x_4 = 4\n",
    "\\end{cases}\n",
    "$"
   ]
  },
  {
   "cell_type": "markdown",
   "metadata": {},
   "source": [
    "Запишем в виде матрицы\n",
    "\n",
    "$\\begin{pmatrix}\n",
    "\\left. \\begin{matrix}\n",
    "1 & 1 & -1 & -2 \\\\\n",
    "2 & 1 & -1 & 1 \\\\\n",
    "1 & 1 & -3 & 4\n",
    "\\end{matrix}\n",
    "\\right|\\begin{matrix}\n",
    "0 \\\\\n",
    "-2 \\\\\n",
    "4\n",
    "\\end{matrix}\n",
    "\\end{pmatrix}\n",
    "$"
   ]
  },
  {
   "cell_type": "markdown",
   "metadata": {},
   "source": [
    "Путем несложных вычислений приходим к\n",
    "\n",
    "$\\begin{pmatrix}\n",
    "\\left. \\begin{matrix}\n",
    "1 & 1 & -1 & -2 \\\\\n",
    "0 & -1 & 1 & -3 \\\\\n",
    "0 & 0 & 4 & 2\n",
    "\\end{matrix}\n",
    "\\right|\\begin{matrix}\n",
    "0 \\\\\n",
    "-2 \\\\\n",
    "4\n",
    "\\end{matrix}\n",
    "\\end{pmatrix}\n",
    "$"
   ]
  },
  {
   "cell_type": "markdown",
   "metadata": {},
   "source": [
    "Имеет бесконечное множество решений.\n",
    "\n",
    "Выразим что нибудь: \n",
    "\n",
    "$x_3 = c$\n",
    "\n",
    "$x_4 = 2 - 2c$\n",
    "\n",
    "$x_2 = 3с$\n",
    "\n",
    "$x_1 = 2c - 4$\n",
    "\n",
    "Тогда скажем при $x_3 = 1$ получаем\n",
    "$x_4 = 0$, $x_2 = 3$, $x_1 = -2$"
   ]
  },
  {
   "cell_type": "markdown",
   "metadata": {},
   "source": [
    "Проверял и решал на бумажке - здесь не привожу"
   ]
  },
  {
   "cell_type": "code",
   "execution_count": null,
   "metadata": {},
   "outputs": [],
   "source": []
  },
  {
   "cell_type": "markdown",
   "metadata": {},
   "source": [
    "2. Проверить на совместность и выяснить, сколько решений будет иметь система линейных уравнений:\n",
    "\n",
    "a). $\\begin{cases}\n",
    "3x_1 - x_2 + x_3 = 4 \\\\\n",
    "2x_1 - 5x_2 - 3x_3 = -17 \\\\\n",
    "x_1 + x_2 - x_3 = 0\n",
    "\\end{cases}\n",
    "$\n",
    "\n",
    "б). $\\begin{cases}\n",
    "2x_1 - 4x_2 + 6x_3 = 1 \\\\\n",
    "x_1 - 2x_2 + 3x_3 = -2 \\\\\n",
    "3x_1 - 6x_2 + 9x_3 = 5\n",
    "\\end{cases}\n",
    "$\n",
    "\n",
    "в). $\\begin{cases}\n",
    "x_1 + 2x_2 + 5x_3 = 4 \\\\\n",
    "3x_1 + 1x_2 - 8x_3 = -2 \n",
    "\\end{cases}\n",
    "$"
   ]
  },
  {
   "cell_type": "markdown",
   "metadata": {},
   "source": [
    "Распишем в матрицы"
   ]
  },
  {
   "cell_type": "markdown",
   "metadata": {},
   "source": [
    "а) $\\begin{pmatrix}\n",
    "\\left. \\begin{matrix}\n",
    "3 & -1 & 1 \\\\\n",
    "2 & -5 & -3 \\\\\n",
    "1 & 1 & -1 \n",
    "\\end{matrix}\n",
    "\\right|\\begin{matrix}\n",
    "4 \\\\\n",
    "-17 \\\\\n",
    "0\n",
    "\\end{matrix}\n",
    "\\end{pmatrix}\n",
    "$\n",
    "ранг равен 3, а ранг расширенной равен тоже 3\n",
    "\n",
    "Похоже система совместна и имеет одно решение"
   ]
  },
  {
   "cell_type": "markdown",
   "metadata": {},
   "source": [
    "б) $\\begin{pmatrix}\n",
    "\\left. \\begin{matrix}\n",
    "2 & -4 & 6 \\\\\n",
    "1 & -2 & 3 \\\\\n",
    "3 & -6 & 9 \n",
    "\\end{matrix}\n",
    "\\right|\\begin{matrix}\n",
    "1 \\\\\n",
    "-2 \\\\\n",
    "5\n",
    "\\end{matrix}\n",
    "\\end{pmatrix}\n",
    "$\n",
    "ранг равен 1, а ранг расширенной равен 2\n",
    "\n",
    "Похоже система несовместна"
   ]
  },
  {
   "cell_type": "markdown",
   "metadata": {},
   "source": [
    "б) $\\begin{pmatrix}\n",
    "\\left. \\begin{matrix}\n",
    "1 & 2 & 5 \\\\\n",
    "3 & 1 & -8 \n",
    "\\end{matrix}\n",
    "\\right|\\begin{matrix}\n",
    "4 \\\\\n",
    "-2 \n",
    "\\end{matrix}\n",
    "\\end{pmatrix}\n",
    "$\n",
    "ранг равен 2, а ранг расширенной равен тоже 2\n",
    "\n",
    "Система совместна и имеет бесконечное количество решений"
   ]
  },
  {
   "cell_type": "code",
   "execution_count": null,
   "metadata": {},
   "outputs": [],
   "source": []
  },
  {
   "cell_type": "markdown",
   "metadata": {},
   "source": [
    "3. Проверить на совместность и выяснить, сколько решений будет иметь система линейных уравнений, заданная расширенной матрицей"
   ]
  }
 ],
 "metadata": {
  "kernelspec": {
   "display_name": "Python 3",
   "language": "python",
   "name": "python3"
  },
  "language_info": {
   "codemirror_mode": {
    "name": "ipython",
    "version": 3
   },
   "file_extension": ".py",
   "mimetype": "text/x-python",
   "name": "python",
   "nbconvert_exporter": "python",
   "pygments_lexer": "ipython3",
   "version": "3.7.3"
  }
 },
 "nbformat": 4,
 "nbformat_minor": 2
}
